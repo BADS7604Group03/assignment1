{
  "nbformat": 4,
  "nbformat_minor": 0,
  "metadata": {
    "colab": {
      "name": "ุ6310422055_newversion_ Creaditcard_ML_VS_MLP.ipynb",
      "provenance": [],
      "collapsed_sections": [
        "sNSGE6gb7ZJJ",
        "DG8juyY_Wn_E",
        "PSDd-TUizRAL",
        "ZBylkpfpzv3w",
        "gWNXPx350s-w",
        "3QTN7dYrhv-L",
        "cZGvRhm_hGc6",
        "QY4wdRXSkgQ5",
        "Sh4XvOTqkp6W",
        "Pf1umIoo3Qun",
        "xjXVMJw93MeS",
        "YJM_9oSO3YpJ"
      ],
      "background_execution": "on"
    },
    "kernelspec": {
      "name": "python3",
      "display_name": "Python 3"
    },
    "language_info": {
      "name": "python"
    },
    "accelerator": "GPU"
  },
  "cells": [
    {
      "cell_type": "markdown",
      "source": [
        "# (1 - RUN) Seting Import package and Parameter"
      ],
      "metadata": {
        "id": "b2bDLmGDV3xE"
      }
    },
    {
      "cell_type": "markdown",
      "source": [
        "ref : "
      ],
      "metadata": {
        "id": "jV0qDUyVWDS8"
      }
    },
    {
      "cell_type": "code",
      "source": [
        "#Set Environment and Parameter\n",
        "import pandas as pd \n",
        "import numpy as np\n",
        "import matplotlib\n",
        "import matplotlib.pyplot as plt\n",
        "import seaborn as sns\n",
        "%matplotlib inline \n",
        "import plotly.graph_objs as go\n",
        "import plotly.figure_factory as ff\n",
        "from plotly import tools\n",
        "from plotly.offline import download_plotlyjs, init_notebook_mode, plot, iplot\n",
        "init_notebook_mode(connected=True)\n",
        "\n",
        "\n",
        "import gc\n",
        "from datetime import datetime \n",
        "from sklearn.model_selection import train_test_split\n",
        "from sklearn.model_selection import KFold\n",
        "from sklearn.metrics import roc_auc_score ,f1_score ,precision_score ,recall_score\n",
        "from sklearn.ensemble import RandomForestClassifier\n",
        "from sklearn.ensemble import AdaBoostClassifier\n",
        "from sklearn import svm\n",
        "import lightgbm as lgb\n",
        "from lightgbm import LGBMClassifier\n",
        "import xgboost as xgb\n",
        "\n",
        "import time\n",
        "\n",
        "pd.set_option('display.max_columns', 100)\n",
        "\n",
        "\n",
        "\n",
        "RANDOM_STATE = 2018\n",
        "PREDS_RATIO = 0.5"
      ],
      "metadata": {
        "id": "ZN8SMaxuVcUT",
        "colab": {
          "base_uri": "https://localhost:8080/"
        },
        "outputId": "2f38b28a-8d3d-46de-b4d0-b4e139b970df"
      },
      "execution_count": null,
      "outputs": [
        {
          "output_type": "display_data",
          "data": {
            "text/html": [
              "        <script type=\"text/javascript\">\n",
              "        window.PlotlyConfig = {MathJaxConfig: 'local'};\n",
              "        if (window.MathJax) {MathJax.Hub.Config({SVG: {font: \"STIX-Web\"}});}\n",
              "        if (typeof require !== 'undefined') {\n",
              "        require.undef(\"plotly\");\n",
              "        requirejs.config({\n",
              "            paths: {\n",
              "                'plotly': ['https://cdn.plot.ly/plotly-2.8.3.min']\n",
              "            }\n",
              "        });\n",
              "        require(['plotly'], function(Plotly) {\n",
              "            window._Plotly = Plotly;\n",
              "        });\n",
              "        }\n",
              "        </script>\n",
              "        "
            ]
          },
          "metadata": {}
        }
      ]
    },
    {
      "cell_type": "markdown",
      "source": [
        "# (2 - RUN) Prepar Data"
      ],
      "metadata": {
        "id": "sNSGE6gb7ZJJ"
      }
    },
    {
      "cell_type": "markdown",
      "source": [
        "## Import data"
      ],
      "metadata": {
        "id": "DG8juyY_Wn_E"
      }
    },
    {
      "cell_type": "code",
      "source": [
        "from google.colab import drive\n",
        "drive.mount('/content/drive')"
      ],
      "metadata": {
        "id": "DaOHCQlAxgi-",
        "colab": {
          "base_uri": "https://localhost:8080/"
        },
        "outputId": "56a4345d-53c4-45df-d7a3-0d9dbd845594"
      },
      "execution_count": null,
      "outputs": [
        {
          "output_type": "stream",
          "name": "stdout",
          "text": [
            "Drive already mounted at /content/drive; to attempt to forcibly remount, call drive.mount(\"/content/drive\", force_remount=True).\n"
          ]
        }
      ]
    },
    {
      "cell_type": "code",
      "source": [
        "data_df = pd.read_csv(\"/content/drive/MyDrive/Colab Notebooks/BADS7604_DL/data/creditcard.csv\")\n",
        "data_df.head(3)\n",
        "print(f\"Size od data frame {data_df.shape}\")"
      ],
      "metadata": {
        "id": "2MkllMpSWqhF",
        "colab": {
          "base_uri": "https://localhost:8080/"
        },
        "outputId": "812ba25c-24e8-4e4a-e38c-1cc5d6a55e7c"
      },
      "execution_count": null,
      "outputs": [
        {
          "output_type": "stream",
          "name": "stdout",
          "text": [
            "Size od data frame (284807, 31)\n"
          ]
        }
      ]
    },
    {
      "cell_type": "code",
      "source": [
        "#Define predictors and target values\n",
        "target = 'Class'\n",
        "predictors = ['V1', 'V2', 'V3', 'V4', 'V5', 'V6', 'V7', 'V8', 'V9', 'V10','V11', 'V12', 'V13', 'V14', 'V15',\n",
        "                   'V16', 'V17', 'V18', 'V19','V20', 'V21', 'V22', 'V23', 'V24', 'V25', 'V26', 'V27', 'V28', 'Amount']"
      ],
      "metadata": {
        "id": "bfKDXnUDWvUz"
      },
      "execution_count": null,
      "outputs": []
    },
    {
      "cell_type": "code",
      "source": [
        "df_x = data_df[predictors]\n",
        "df_y = data_df[target]"
      ],
      "metadata": {
        "id": "q1Qa4CLPymy7"
      },
      "execution_count": null,
      "outputs": []
    },
    {
      "cell_type": "markdown",
      "source": [
        "## Scaling predictors"
      ],
      "metadata": {
        "id": "PSDd-TUizRAL"
      }
    },
    {
      "cell_type": "code",
      "source": [
        "from sklearn.preprocessing import MinMaxScaler\n",
        "scaler = MinMaxScaler()\n",
        "df_x = pd.DataFrame(scaler.fit_transform(df_x))"
      ],
      "metadata": {
        "id": "TTFt5V4vzLao"
      },
      "execution_count": null,
      "outputs": []
    },
    {
      "cell_type": "markdown",
      "source": [
        "## Split data in train, test"
      ],
      "metadata": {
        "id": "ZBylkpfpzv3w"
      }
    },
    {
      "cell_type": "code",
      "source": [
        "TEST_SIZE = 0.20 # test size using_train_test_split\n",
        "x_train, x_test, y_train, y_test = train_test_split(df_x, df_y, test_size=TEST_SIZE, random_state=RANDOM_STATE, shuffle=True )\n",
        "print(f\"Proportion of Target: {y_train.mean()}\")"
      ],
      "metadata": {
        "id": "qKy9te-Kzjhw",
        "colab": {
          "base_uri": "https://localhost:8080/"
        },
        "outputId": "8bb62b8c-f151-45e7-bbc3-8a9cbb5dad30"
      },
      "execution_count": null,
      "outputs": [
        {
          "output_type": "stream",
          "name": "stdout",
          "text": [
            "Proportion of Target: 0.0017204678619236761\n"
          ]
        }
      ]
    },
    {
      "cell_type": "markdown",
      "source": [
        ""
      ],
      "metadata": {
        "id": "R05Keei2BRHR"
      }
    },
    {
      "cell_type": "markdown",
      "source": [
        "## Oversampling Trainig Set"
      ],
      "metadata": {
        "id": "gWNXPx350s-w"
      }
    },
    {
      "cell_type": "code",
      "source": [
        "from imblearn.over_sampling import SMOTE\n",
        "smote = SMOTE(random_state = RANDOM_STATE ,sampling_strategy='minority')\n",
        "x_train, y_train = smote.fit_resample(x_train,y_train)\n",
        "print(f\"Proportion after oversampling : {y_train.mean()}\")"
      ],
      "metadata": {
        "id": "dernq4kG0rgc",
        "colab": {
          "base_uri": "https://localhost:8080/"
        },
        "outputId": "11d06d96-02a2-4fc9-a102-57336f00f9a6"
      },
      "execution_count": null,
      "outputs": [
        {
          "output_type": "stream",
          "name": "stdout",
          "text": [
            "Proportion after oversampling : 0.5\n"
          ]
        }
      ]
    },
    {
      "cell_type": "markdown",
      "source": [
        "## Prepare Data in Numpy"
      ],
      "metadata": {
        "id": "3QTN7dYrhv-L"
      }
    },
    {
      "cell_type": "code",
      "source": [
        "#Predictor\n",
        "x_train = x_train.values.astype(np.float32)\n",
        "x_test  = x_test.values.astype(np.float32)\n",
        "print( f\" x_train.shape={x_train.shape}, x_train.dtype={x_train.dtype}, min(x_train)={np.min(x_train):0.4f}, max(x_train)={np.max(x_train):0.4f}\")\n",
        "print( f\" x_test.shape={x_test.shape}, x_test.dtype={x_test.dtype}, min(x_test)={np.min(x_test):0.4f}, max(x_test)={np.max(x_test):0.4f}\")"
      ],
      "metadata": {
        "id": "fVaxQwkAhzdz",
        "colab": {
          "base_uri": "https://localhost:8080/"
        },
        "outputId": "4c6f55f9-b7d2-48c5-9e7a-17788f7da6f3"
      },
      "execution_count": null,
      "outputs": [
        {
          "output_type": "stream",
          "name": "stdout",
          "text": [
            " x_train.shape=(454906, 29), x_train.dtype=float32, min(x_train)=0.0000, max(x_train)=1.0000\n",
            " x_test.shape=(56962, 29), x_test.dtype=float32, min(x_test)=0.0000, max(x_test)=1.0000\n"
          ]
        }
      ]
    },
    {
      "cell_type": "code",
      "source": [
        "#Target\n",
        "y_train = y_train.values\n",
        "y_test = y_test.values\n",
        "print( f\" y_train.shape={y_train.shape}, y_train.dtype={y_train.dtype}, min(y_train)={np.min(y_train)}, max(y_train)={np.max(y_train)}\")\n",
        "print( f\" y_test.shape={y_test.shape}, y_test.dtype={y_test.dtype}, min(y_test)={np.min(y_test)}, max(y_test)={np.max(y_test)}\")"
      ],
      "metadata": {
        "id": "UfUf1izHhzgx",
        "colab": {
          "base_uri": "https://localhost:8080/"
        },
        "outputId": "56838a0e-9a70-4f51-e813-5bc742381763"
      },
      "execution_count": null,
      "outputs": [
        {
          "output_type": "stream",
          "name": "stdout",
          "text": [
            " y_train.shape=(454906,), y_train.dtype=int64, min(y_train)=0, max(y_train)=1\n",
            " y_test.shape=(56962,), y_test.dtype=int64, min(y_test)=0, max(y_test)=1\n"
          ]
        }
      ]
    },
    {
      "cell_type": "markdown",
      "source": [
        "# (Skip) Deep Learning MLP"
      ],
      "metadata": {
        "id": "cZGvRhm_hGc6"
      }
    },
    {
      "cell_type": "markdown",
      "source": [
        "## setting MPL Enviroment"
      ],
      "metadata": {
        "id": "WzcvAOcwkYWQ"
      }
    },
    {
      "cell_type": "code",
      "source": [
        "!nvidia-smi -L"
      ],
      "metadata": {
        "id": "lV1A17H3mkg4",
        "colab": {
          "base_uri": "https://localhost:8080/"
        },
        "outputId": "fb4b3fd0-5726-4209-9506-eb8f345121c1"
      },
      "execution_count": null,
      "outputs": [
        {
          "output_type": "stream",
          "name": "stdout",
          "text": [
            "NVIDIA-SMI has failed because it couldn't communicate with the NVIDIA driver. Make sure that the latest NVIDIA driver is installed and running.\n",
            "\n"
          ]
        }
      ]
    },
    {
      "cell_type": "code",
      "source": [
        "import sys\n",
        "import tensorflow as tf"
      ],
      "metadata": {
        "id": "JxoQql_Zj4bt"
      },
      "execution_count": null,
      "outputs": []
    },
    {
      "cell_type": "code",
      "source": [
        "print(f\"Python :{sys.version}\\nNumpy:{np.__version__}\\nTensorFlow{tf.__version__}\")\n",
        "print(f\"tf.keras.backend.image_data_firmat() = {tf.keras.backend.image_data_format()}\")\n",
        "#Count the number ofGPUs as detected by tensorflow\n",
        "gpus = tf.config.list_physical_devices('GPU')\n",
        "print(f\"TensorFlow detect {len(gpus)} GPUs\")\n",
        "for i,gpu in enumerate(gpus):\n",
        "  print(f\"> GPU No. {i} : Name = {gpu.name}  ,Type = {gpu.device_type}\")"
      ],
      "metadata": {
        "id": "3sSEOzSQj5nT",
        "colab": {
          "base_uri": "https://localhost:8080/"
        },
        "outputId": "90fb8791-0835-4747-8e67-0017ee9173a7"
      },
      "execution_count": null,
      "outputs": [
        {
          "output_type": "stream",
          "name": "stdout",
          "text": [
            "Python :3.7.12 (default, Sep 10 2021, 00:21:48) \n",
            "[GCC 7.5.0]\n",
            "Numpy:1.19.5\n",
            "TensorFlow2.7.0\n",
            "tf.keras.backend.image_data_firmat() = channels_last\n",
            "TensorFlow detect 0 GPUs\n"
          ]
        }
      ]
    },
    {
      "cell_type": "code",
      "source": [
        "#seting\n",
        "np.random.seed(1234)\n",
        "tf.random.set_seed(5678)\n",
        "_,input_dim = x_train.shape #the number of features per one input\n",
        "output_din = len(set(y_train)) #the number of output classes"
      ],
      "metadata": {
        "id": "8J4jQEoXhJPf"
      },
      "execution_count": null,
      "outputs": []
    },
    {
      "cell_type": "markdown",
      "source": [
        "## Create the network architecture"
      ],
      "metadata": {
        "id": "QY4wdRXSkgQ5"
      }
    },
    {
      "cell_type": "code",
      "source": [
        "model = tf.keras.models.Sequential()\n",
        "\n",
        "#Input layer\n",
        "model.add(tf.keras.Input(shape=(input_dim,)))\n",
        "\n",
        "#Hidden layer\n",
        "model.add(tf.keras.layers.Dense(32, activation='relu', name='hidden1')) #use defult weight initialization, don't use any regularization\n",
        "model.add(tf.keras.layers.BatchNormalization(axis =-1, name='bn1'))\n",
        "\n",
        "#output layer\n",
        "model.add(tf.keras.layers.Dense(output_din, activation='softmax', name='output'))\n",
        "\n",
        "model.summary()"
      ],
      "metadata": {
        "id": "eJY_fmg0hZ4Y",
        "colab": {
          "base_uri": "https://localhost:8080/"
        },
        "outputId": "94f8cf44-ac3e-497f-f4b8-edc310a8bc81"
      },
      "execution_count": null,
      "outputs": [
        {
          "output_type": "stream",
          "name": "stdout",
          "text": [
            "Model: \"sequential\"\n",
            "_________________________________________________________________\n",
            " Layer (type)                Output Shape              Param #   \n",
            "=================================================================\n",
            " hidden1 (Dense)             (None, 32)                960       \n",
            "                                                                 \n",
            " bn1 (BatchNormalization)    (None, 32)                128       \n",
            "                                                                 \n",
            " output (Dense)              (None, 2)                 66        \n",
            "                                                                 \n",
            "=================================================================\n",
            "Total params: 1,154\n",
            "Trainable params: 1,090\n",
            "Non-trainable params: 64\n",
            "_________________________________________________________________\n"
          ]
        }
      ]
    },
    {
      "cell_type": "markdown",
      "source": [
        "## Compile the model"
      ],
      "metadata": {
        "id": "Sh4XvOTqkp6W"
      }
    },
    {
      "cell_type": "code",
      "source": [
        "#Examples of compiling the model (only run one cell provided below)\n",
        "#1) complie with default values for both optimizer and loss\n",
        "# model.compile( optimizer='adam', loss='sparse_categorical_croseentropy', metrics=['acc'])\n",
        "#2) complie + Hyperparameter tuning\n",
        "model.compile(optimizer=tf.keras.optimizers.Adam(learning_rate=0.001), loss=tf.keras.losses.SparseCategoricalCrossentropy(from_logits=False), metrics=['acc'])"
      ],
      "metadata": {
        "id": "C_qMWKNjku0d"
      },
      "execution_count": null,
      "outputs": []
    },
    {
      "cell_type": "markdown",
      "source": [
        "## Training the model"
      ],
      "metadata": {
        "id": "kkNkR8hOk5M_"
      }
    },
    {
      "cell_type": "code",
      "source": [
        "start_tm = time.time()\n",
        "checkpoint_filepath = \"bestmodel_epoch{epoch:02d}_valloss{val_loss:.2f}.hdf5\"\n",
        "model_checkpoint_callback = tf.keras.callbacks.ModelCheckpoint(filepath=checkpoint_filepath, \n",
        "                                                               save_weights_only=True, \n",
        "                                                               monitor='val_acc', \n",
        "                                                               model='max', \n",
        "                                                               save_best_only=True)\n",
        "history = model.fit(x_train, y_train, batch_size=128, epochs=20, verbose=1, validation_split=0.2, callbacks=[model_checkpoint_callback])\n",
        "print(f\">>>>> Training Time >>>> {time.time() - start_tm} seconds\")"
      ],
      "metadata": {
        "id": "YGz6p-mak3UD",
        "colab": {
          "base_uri": "https://localhost:8080/"
        },
        "outputId": "7385a6d8-7ed8-473f-cb84-ff0039aeab9f"
      },
      "execution_count": null,
      "outputs": [
        {
          "output_type": "stream",
          "name": "stdout",
          "text": [
            "Epoch 1/20\n",
            "2844/2844 [==============================] - 7s 2ms/step - loss: 0.1409 - acc: 0.9455 - val_loss: 0.0602 - val_acc: 0.9736\n",
            "Epoch 2/20\n",
            "2844/2844 [==============================] - 6s 2ms/step - loss: 0.1115 - acc: 0.9562 - val_loss: 0.2672 - val_acc: 0.8931\n",
            "Epoch 3/20\n",
            "2844/2844 [==============================] - 7s 3ms/step - loss: 0.1021 - acc: 0.9589 - val_loss: 0.1791 - val_acc: 0.9111\n",
            "Epoch 4/20\n",
            "2844/2844 [==============================] - 6s 2ms/step - loss: 0.0965 - acc: 0.9604 - val_loss: 0.1940 - val_acc: 0.9095\n",
            "Epoch 5/20\n",
            "2844/2844 [==============================] - 5s 2ms/step - loss: 0.0919 - acc: 0.9621 - val_loss: 0.2406 - val_acc: 0.8893\n",
            "Epoch 6/20\n",
            "2844/2844 [==============================] - 5s 2ms/step - loss: 0.0862 - acc: 0.9642 - val_loss: 0.1061 - val_acc: 0.9480\n",
            "Epoch 7/20\n",
            "2844/2844 [==============================] - 5s 2ms/step - loss: 0.0825 - acc: 0.9662 - val_loss: 0.0689 - val_acc: 0.9674\n",
            "Epoch 8/20\n",
            "2844/2844 [==============================] - 6s 2ms/step - loss: 0.0802 - acc: 0.9673 - val_loss: 0.1444 - val_acc: 0.9300\n",
            "Epoch 9/20\n",
            "2844/2844 [==============================] - 5s 2ms/step - loss: 0.0765 - acc: 0.9685 - val_loss: 0.0749 - val_acc: 0.9602\n",
            "Epoch 10/20\n",
            "2844/2844 [==============================] - 6s 2ms/step - loss: 0.0758 - acc: 0.9687 - val_loss: 0.0901 - val_acc: 0.9528\n",
            "Epoch 11/20\n",
            "2844/2844 [==============================] - 6s 2ms/step - loss: 0.0732 - acc: 0.9698 - val_loss: 0.1803 - val_acc: 0.9179\n",
            "Epoch 12/20\n",
            "2844/2844 [==============================] - 5s 2ms/step - loss: 0.0722 - acc: 0.9703 - val_loss: 0.4360 - val_acc: 0.8731\n",
            "Epoch 13/20\n",
            "2844/2844 [==============================] - 5s 2ms/step - loss: 0.0706 - acc: 0.9709 - val_loss: 0.0756 - val_acc: 0.9592\n",
            "Epoch 14/20\n",
            "2844/2844 [==============================] - 5s 2ms/step - loss: 0.0701 - acc: 0.9713 - val_loss: 0.0899 - val_acc: 0.9532\n",
            "Epoch 15/20\n",
            "2844/2844 [==============================] - 5s 2ms/step - loss: 0.0696 - acc: 0.9718 - val_loss: 0.0963 - val_acc: 0.9461\n",
            "Epoch 16/20\n",
            "2844/2844 [==============================] - 5s 2ms/step - loss: 0.0685 - acc: 0.9721 - val_loss: 0.0366 - val_acc: 0.9887\n",
            "Epoch 17/20\n",
            "2844/2844 [==============================] - 6s 2ms/step - loss: 0.0679 - acc: 0.9724 - val_loss: 0.1313 - val_acc: 0.9304\n",
            "Epoch 18/20\n",
            "2844/2844 [==============================] - 5s 2ms/step - loss: 0.0670 - acc: 0.9729 - val_loss: 0.1181 - val_acc: 0.9400\n",
            "Epoch 19/20\n",
            "2844/2844 [==============================] - 6s 2ms/step - loss: 0.0658 - acc: 0.9733 - val_loss: 0.0902 - val_acc: 0.9505\n",
            "Epoch 20/20\n",
            "2844/2844 [==============================] - 5s 2ms/step - loss: 0.0652 - acc: 0.9737 - val_loss: 0.0380 - val_acc: 0.9858\n",
            ">>>>> Training Time >>>> 142.7036612033844 seconds\n"
          ]
        }
      ]
    },
    {
      "cell_type": "code",
      "source": [
        "#Inspect the save file (sorted by modification date,  newest first)\n",
        "!ls -lt"
      ],
      "metadata": {
        "id": "q7WgST9IlCDt",
        "colab": {
          "base_uri": "https://localhost:8080/"
        },
        "outputId": "e71b5351-c137-4a8d-e1d0-955e46cd4b8f"
      },
      "execution_count": null,
      "outputs": [
        {
          "output_type": "stream",
          "name": "stdout",
          "text": [
            "total 56\n",
            "-rw-r--r-- 1 root root 21056 Feb  1 14:27 bestmodel_epoch16_valloss0.04.hdf5\n",
            "-rw-r--r-- 1 root root 21056 Feb  1 14:26 bestmodel_epoch01_valloss0.06.hdf5\n",
            "drwx------ 5 root root  4096 Feb  1 14:24 drive\n",
            "drwxr-xr-x 1 root root  4096 Jan  7 14:33 sample_data\n"
          ]
        }
      ]
    },
    {
      "cell_type": "markdown",
      "source": [
        "## Model Performance"
      ],
      "metadata": {
        "id": "4wpIHu8BCxYO"
      }
    },
    {
      "cell_type": "code",
      "source": [
        "#summary history for accuracy\n",
        "plt.figure(figsize=(15,5))\n",
        "plt.subplot(121)\n",
        "plt.plot(history.history['acc'])\n",
        "plt.plot(history.history['val_acc'])\n",
        "plt.title('Train Accuracy')\n",
        "plt.ylabel('accuracy')\n",
        "plt.xlabel('epoch')\n",
        "plt.legend(['train','test'] ,loc='upper left')\n",
        "plt.grid()\n",
        "\n",
        "#summary history for loss\n",
        "plt.subplot(122)\n",
        "plt.plot(history.history['loss'])\n",
        "plt.plot(history.history['val_loss'])\n",
        "plt.title('Train loss')\n",
        "plt.ylabel('loss')\n",
        "plt.xlabel('epoch')\n",
        "plt.legend(['train','test'] ,loc='upper left')\n",
        "plt.grid()\n",
        "plt.show()"
      ],
      "metadata": {
        "id": "37__pM9clFal",
        "colab": {
          "base_uri": "https://localhost:8080/",
          "height": 262
        },
        "outputId": "f466f364-cb78-4015-cc36-da05c18d9bfd"
      },
      "execution_count": null,
      "outputs": [
        {
          "output_type": "display_data",
          "data": {
            "image/png": "[encoded data removed]",
            "text/plain": [
              "<Figure size 1080x360 with 2 Axes>"
            ]
          },
          "metadata": {
            "needs_background": "light"
          }
        }
      ]
    },
    {
      "cell_type": "code",
      "source": [
        "results = model.evaluate(x_test, y_test, batch_size=128)\n",
        "print(f\"{model.metrics_names} = {results}\")"
      ],
      "metadata": {
        "id": "vD9H0UHtlSd8",
        "colab": {
          "base_uri": "https://localhost:8080/"
        },
        "outputId": "d2c549d8-f14f-4c70-a2cd-5b9e073b55dc"
      },
      "execution_count": null,
      "outputs": [
        {
          "output_type": "stream",
          "name": "stdout",
          "text": [
            "446/446 [==============================] - 1s 1ms/step - loss: 0.1023 - acc: 0.9620\n",
            "['loss', 'acc'] = [0.10229665040969849, 0.9619746208190918]\n"
          ]
        }
      ]
    },
    {
      "cell_type": "code",
      "source": [
        "preds_mlp = model.predict(x_test)"
      ],
      "metadata": {
        "id": "e2rP0Hrvot9o"
      },
      "execution_count": null,
      "outputs": []
    },
    {
      "cell_type": "code",
      "source": [
        "pfm_auc = roc_auc_score(y_test, preds_mlp[:,1])\n",
        "pfm_f1 = f1_score(y_test, np.where(preds_mlp[:,1]>PREDS_RATIO,1,0), average='weighted')\n",
        "pfm_precision = precision_score(y_test, np.where(preds_mlp[:,1]>PREDS_RATIO,1,0), average='weighted')\n",
        "pfm_recall = recall_score(y_test, np.where(preds_mlp[:,1]>PREDS_RATIO,1,0), average='weighted')\n",
        "print(f\"AUC:{pfm_auc}\\nF1 Score:{pfm_f1}\\nPrecision:{pfm_precision}\\nRecall:{pfm_recall}\")"
      ],
      "metadata": {
        "id": "UGw-VUFlpLZu",
        "colab": {
          "base_uri": "https://localhost:8080/"
        },
        "outputId": "34f4482a-f6a8-4d1c-9f8c-45762c53f5d3"
      },
      "execution_count": null,
      "outputs": [
        {
          "output_type": "stream",
          "name": "stdout",
          "text": [
            "AUC:0.9628028384509866\n",
            "F1 Score:0.9789997560795598\n",
            "Precision:0.9981133935255428\n",
            "Recall:0.961974649766511\n"
          ]
        }
      ]
    },
    {
      "cell_type": "code",
      "source": [
        "cm = pd.crosstab(y_test, np.where(preds_mlp[:,1]>PREDS_RATIO,1,0), rownames=['Actual'], colnames=['Predicted'])\n",
        "fig, (ax1) = plt.subplots(ncols=1, figsize=(5,5))\n",
        "sns.heatmap(cm, \n",
        "            xticklabels=['Not Fraud', 'Fraud'],\n",
        "            yticklabels=['Not Fraud', 'Fraud'],\n",
        "            annot=True,ax=ax1,\n",
        "            linewidths=.2,linecolor=\"Darkblue\", cmap=\"Blues\")\n",
        "plt.title('Confusion Matrix', fontsize=14)\n",
        "plt.show()"
      ],
      "metadata": {
        "id": "CnsTj0kAp-jG",
        "colab": {
          "base_uri": "https://localhost:8080/",
          "height": 351
        },
        "outputId": "7c12b9ed-971c-429f-c3c4-15d9e0591d90"
      },
      "execution_count": null,
      "outputs": [
        {
          "output_type": "display_data",
          "data": {
            "image/png": "[encoded data removed]",
            "text/plain": [
              "<Figure size 360x360 with 2 Axes>"
            ]
          },
          "metadata": {
            "needs_background": "light"
          }
        }
      ]
    },
    {
      "cell_type": "markdown",
      "source": [
        "# (3 - Run) Loop Training DP-MLP"
      ],
      "metadata": {
        "id": "Iz6X0Yf3BecL"
      }
    },
    {
      "cell_type": "markdown",
      "source": [
        "## Set seed"
      ],
      "metadata": {
        "id": "Pf1umIoo3Qun"
      }
    },
    {
      "cell_type": "code",
      "source": [
        "import sys\n",
        "import tensorflow as tf\n",
        "#seting\n",
        "np.random.seed(1234)\n",
        "tf.random.set_seed(5678)\n",
        "_,input_dim = x_train.shape #the number of features per one input\n",
        "output_din = len(set(y_train)) #the number of output classes"
      ],
      "metadata": {
        "id": "UbErwOBUB9d_"
      },
      "execution_count": null,
      "outputs": []
    },
    {
      "cell_type": "markdown",
      "source": [
        "## Create Function and setting model"
      ],
      "metadata": {
        "id": "xjXVMJw93MeS"
      }
    },
    {
      "cell_type": "code",
      "source": [
        "def mlp_training(batchSize ,epochNum ,learnRate ,optzer ,nodes_num=1 ,nodes_act='relu'):\n",
        "  model = tf.keras.models.Sequential()\n",
        "  #Input layer\n",
        "  model.add(tf.keras.Input(shape=(input_dim,)))\n",
        "  #Hidden -----------------------------------------------------------------------------------------------------------------------------------------------------------------------\n",
        "  #> 1 layer\n",
        "  model.add(tf.keras.layers.Dense(nodes_num, activation=nodes_act, name='hidden1')) \n",
        "  model.add(tf.keras.layers.BatchNormalization(axis =-1, name='bn1'))\n",
        "  #> 2 layer\n",
        "  model.add(tf.keras.layers.Dense(nodes_num, activation=nodes_act, name='hidden2')) \n",
        "  model.add(tf.keras.layers.BatchNormalization(axis =-1, name='bn2'))  \n",
        "  #> 3 layer\n",
        "  model.add(tf.keras.layers.Dense(nodes_num, activation=nodes_act, name='hidden3')) \n",
        "  model.add(tf.keras.layers.BatchNormalization(axis =-1, name='bn3'))  \n",
        "  #----------------------------------------------------------------------------------------------------------------------------------------------------------------------------------\n",
        "  #output layer\n",
        "  model.add(tf.keras.layers.Dense(2, activation='softmax' , name='output'))\n",
        "\n",
        "  #Compiling the model\n",
        "  if optzer.lower() == 'adum':\n",
        "    opt = tf.keras.optimizers.Adam(learning_rate=learnRate)\n",
        "  elif optzer.lower() == 'sgd':\n",
        "    opt = tf.keras.optimizers.SGD(learning_rate=learnRate)\n",
        "  else :\n",
        "    print('error optimizers')\n",
        "  model.compile(optimizer=opt\n",
        "                      , loss=tf.keras.losses.SparseCategoricalCrossentropy(from_logits=False)\n",
        "                      , metrics=['acc'])\n",
        "  #Training\n",
        "  history = model.fit(x_train, y_train, batch_size=batchSize, epochs=epochNum, verbose=0, validation_split=0.2)\n",
        "  return model,history"
      ],
      "metadata": {
        "id": "S7Zyp7LBH5Yl"
      },
      "execution_count": null,
      "outputs": []
    },
    {
      "cell_type": "markdown",
      "source": [
        "## Test Function create model"
      ],
      "metadata": {
        "id": "YJM_9oSO3YpJ"
      }
    },
    {
      "cell_type": "code",
      "source": [
        "start_tm = time.time()\n",
        "model,history = mlp_training(256, 250 ,0.01 ,'adum' ,56 ,'relu')\n",
        "training_tm = time.time() - start_tm"
      ],
      "metadata": {
        "id": "qOdd7OvW_lDL",
        "colab": {
          "base_uri": "https://localhost:8080/",
          "height": 380
        },
        "outputId": "c79a866f-6ea3-4795-f48f-16d9acca01e4"
      },
      "execution_count": null,
      "outputs": [
        {
          "output_type": "error",
          "ename": "KeyboardInterrupt",
          "evalue": "ignored",
          "traceback": [
            "\u001b[0;31m---------------------------------------------------------------------------\u001b[0m",
            "\u001b[0;31mKeyboardInterrupt\u001b[0m                         Traceback (most recent call last)",
            "\u001b[0;32m<ipython-input-31-44f5201e9052>\u001b[0m in \u001b[0;36m<module>\u001b[0;34m()\u001b[0m\n\u001b[1;32m      1\u001b[0m \u001b[0mstart_tm\u001b[0m \u001b[0;34m=\u001b[0m \u001b[0mtime\u001b[0m\u001b[0;34m.\u001b[0m\u001b[0mtime\u001b[0m\u001b[0;34m(\u001b[0m\u001b[0;34m)\u001b[0m\u001b[0;34m\u001b[0m\u001b[0;34m\u001b[0m\u001b[0m\n\u001b[0;32m----> 2\u001b[0;31m \u001b[0mmodel\u001b[0m\u001b[0;34m,\u001b[0m\u001b[0mhistory\u001b[0m \u001b[0;34m=\u001b[0m \u001b[0mmlp_training\u001b[0m\u001b[0;34m(\u001b[0m\u001b[0;36m256\u001b[0m\u001b[0;34m,\u001b[0m \u001b[0;36m250\u001b[0m \u001b[0;34m,\u001b[0m\u001b[0;36m0.01\u001b[0m \u001b[0;34m,\u001b[0m\u001b[0;34m'adum'\u001b[0m \u001b[0;34m,\u001b[0m\u001b[0;36m56\u001b[0m \u001b[0;34m,\u001b[0m\u001b[0;34m'relu'\u001b[0m\u001b[0;34m)\u001b[0m\u001b[0;34m\u001b[0m\u001b[0;34m\u001b[0m\u001b[0m\n\u001b[0m\u001b[1;32m      3\u001b[0m \u001b[0mtraining_tm\u001b[0m \u001b[0;34m=\u001b[0m \u001b[0mtime\u001b[0m\u001b[0;34m.\u001b[0m\u001b[0mtime\u001b[0m\u001b[0;34m(\u001b[0m\u001b[0;34m)\u001b[0m \u001b[0;34m-\u001b[0m \u001b[0mstart_tm\u001b[0m\u001b[0;34m\u001b[0m\u001b[0;34m\u001b[0m\u001b[0m\n",
            "\u001b[0;32m<ipython-input-30-64245ee4232e>\u001b[0m in \u001b[0;36mmlp_training\u001b[0;34m(batchSize, epochNum, learnRate, optzer, nodes_num, nodes_act)\u001b[0m\n\u001b[1;32m     28\u001b[0m                       , metrics=['acc'])\n\u001b[1;32m     29\u001b[0m   \u001b[0;31m#Training\u001b[0m\u001b[0;34m\u001b[0m\u001b[0;34m\u001b[0m\u001b[0;34m\u001b[0m\u001b[0m\n\u001b[0;32m---> 30\u001b[0;31m   \u001b[0mhistory\u001b[0m \u001b[0;34m=\u001b[0m \u001b[0mmodel\u001b[0m\u001b[0;34m.\u001b[0m\u001b[0mfit\u001b[0m\u001b[0;34m(\u001b[0m\u001b[0mx_train\u001b[0m\u001b[0;34m,\u001b[0m \u001b[0my_train\u001b[0m\u001b[0;34m,\u001b[0m \u001b[0mbatch_size\u001b[0m\u001b[0;34m=\u001b[0m\u001b[0mbatchSize\u001b[0m\u001b[0;34m,\u001b[0m \u001b[0mepochs\u001b[0m\u001b[0;34m=\u001b[0m\u001b[0mepochNum\u001b[0m\u001b[0;34m,\u001b[0m \u001b[0mverbose\u001b[0m\u001b[0;34m=\u001b[0m\u001b[0;36m0\u001b[0m\u001b[0;34m,\u001b[0m \u001b[0mvalidation_split\u001b[0m\u001b[0;34m=\u001b[0m\u001b[0;36m0.2\u001b[0m\u001b[0;34m)\u001b[0m\u001b[0;34m\u001b[0m\u001b[0;34m\u001b[0m\u001b[0m\n\u001b[0m\u001b[1;32m     31\u001b[0m   \u001b[0;32mreturn\u001b[0m \u001b[0mmodel\u001b[0m\u001b[0;34m,\u001b[0m\u001b[0mhistory\u001b[0m\u001b[0;34m\u001b[0m\u001b[0;34m\u001b[0m\u001b[0m\n",
            "\u001b[0;32m/usr/local/lib/python3.7/dist-packages/keras/utils/traceback_utils.py\u001b[0m in \u001b[0;36merror_handler\u001b[0;34m(*args, **kwargs)\u001b[0m\n\u001b[1;32m     62\u001b[0m     \u001b[0mfiltered_tb\u001b[0m \u001b[0;34m=\u001b[0m \u001b[0;32mNone\u001b[0m\u001b[0;34m\u001b[0m\u001b[0;34m\u001b[0m\u001b[0m\n\u001b[1;32m     63\u001b[0m     \u001b[0;32mtry\u001b[0m\u001b[0;34m:\u001b[0m\u001b[0;34m\u001b[0m\u001b[0;34m\u001b[0m\u001b[0m\n\u001b[0;32m---> 64\u001b[0;31m       \u001b[0;32mreturn\u001b[0m \u001b[0mfn\u001b[0m\u001b[0;34m(\u001b[0m\u001b[0;34m*\u001b[0m\u001b[0margs\u001b[0m\u001b[0;34m,\u001b[0m \u001b[0;34m**\u001b[0m\u001b[0mkwargs\u001b[0m\u001b[0;34m)\u001b[0m\u001b[0;34m\u001b[0m\u001b[0;34m\u001b[0m\u001b[0m\n\u001b[0m\u001b[1;32m     65\u001b[0m     \u001b[0;32mexcept\u001b[0m \u001b[0mException\u001b[0m \u001b[0;32mas\u001b[0m \u001b[0me\u001b[0m\u001b[0;34m:\u001b[0m  \u001b[0;31m# pylint: disable=broad-except\u001b[0m\u001b[0;34m\u001b[0m\u001b[0;34m\u001b[0m\u001b[0m\n\u001b[1;32m     66\u001b[0m       \u001b[0mfiltered_tb\u001b[0m \u001b[0;34m=\u001b[0m \u001b[0m_process_traceback_frames\u001b[0m\u001b[0;34m(\u001b[0m\u001b[0me\u001b[0m\u001b[0;34m.\u001b[0m\u001b[0m__traceback__\u001b[0m\u001b[0;34m)\u001b[0m\u001b[0;34m\u001b[0m\u001b[0;34m\u001b[0m\u001b[0m\n",
            "\u001b[0;32m/usr/local/lib/python3.7/dist-packages/keras/engine/training.py\u001b[0m in \u001b[0;36mfit\u001b[0;34m(self, x, y, batch_size, epochs, verbose, callbacks, validation_split, validation_data, shuffle, class_weight, sample_weight, initial_epoch, steps_per_epoch, validation_steps, validation_batch_size, validation_freq, max_queue_size, workers, use_multiprocessing)\u001b[0m\n\u001b[1;32m   1261\u001b[0m               \u001b[0muse_multiprocessing\u001b[0m\u001b[0;34m=\u001b[0m\u001b[0muse_multiprocessing\u001b[0m\u001b[0;34m,\u001b[0m\u001b[0;34m\u001b[0m\u001b[0;34m\u001b[0m\u001b[0m\n\u001b[1;32m   1262\u001b[0m               \u001b[0mreturn_dict\u001b[0m\u001b[0;34m=\u001b[0m\u001b[0;32mTrue\u001b[0m\u001b[0;34m,\u001b[0m\u001b[0;34m\u001b[0m\u001b[0;34m\u001b[0m\u001b[0m\n\u001b[0;32m-> 1263\u001b[0;31m               _use_cached_eval_dataset=True)\n\u001b[0m\u001b[1;32m   1264\u001b[0m           \u001b[0mval_logs\u001b[0m \u001b[0;34m=\u001b[0m \u001b[0;34m{\u001b[0m\u001b[0;34m'val_'\u001b[0m \u001b[0;34m+\u001b[0m \u001b[0mname\u001b[0m\u001b[0;34m:\u001b[0m \u001b[0mval\u001b[0m \u001b[0;32mfor\u001b[0m \u001b[0mname\u001b[0m\u001b[0;34m,\u001b[0m \u001b[0mval\u001b[0m \u001b[0;32min\u001b[0m \u001b[0mval_logs\u001b[0m\u001b[0;34m.\u001b[0m\u001b[0mitems\u001b[0m\u001b[0;34m(\u001b[0m\u001b[0;34m)\u001b[0m\u001b[0;34m}\u001b[0m\u001b[0;34m\u001b[0m\u001b[0;34m\u001b[0m\u001b[0m\n\u001b[1;32m   1265\u001b[0m           \u001b[0mepoch_logs\u001b[0m\u001b[0;34m.\u001b[0m\u001b[0mupdate\u001b[0m\u001b[0;34m(\u001b[0m\u001b[0mval_logs\u001b[0m\u001b[0;34m)\u001b[0m\u001b[0;34m\u001b[0m\u001b[0;34m\u001b[0m\u001b[0m\n",
            "\u001b[0;32m/usr/local/lib/python3.7/dist-packages/keras/utils/traceback_utils.py\u001b[0m in \u001b[0;36merror_handler\u001b[0;34m(*args, **kwargs)\u001b[0m\n\u001b[1;32m     62\u001b[0m     \u001b[0mfiltered_tb\u001b[0m \u001b[0;34m=\u001b[0m \u001b[0;32mNone\u001b[0m\u001b[0;34m\u001b[0m\u001b[0;34m\u001b[0m\u001b[0m\n\u001b[1;32m     63\u001b[0m     \u001b[0;32mtry\u001b[0m\u001b[0;34m:\u001b[0m\u001b[0;34m\u001b[0m\u001b[0;34m\u001b[0m\u001b[0m\n\u001b[0;32m---> 64\u001b[0;31m       \u001b[0;32mreturn\u001b[0m \u001b[0mfn\u001b[0m\u001b[0;34m(\u001b[0m\u001b[0;34m*\u001b[0m\u001b[0margs\u001b[0m\u001b[0;34m,\u001b[0m \u001b[0;34m**\u001b[0m\u001b[0mkwargs\u001b[0m\u001b[0;34m)\u001b[0m\u001b[0;34m\u001b[0m\u001b[0;34m\u001b[0m\u001b[0m\n\u001b[0m\u001b[1;32m     65\u001b[0m     \u001b[0;32mexcept\u001b[0m \u001b[0mException\u001b[0m \u001b[0;32mas\u001b[0m \u001b[0me\u001b[0m\u001b[0;34m:\u001b[0m  \u001b[0;31m# pylint: disable=broad-except\u001b[0m\u001b[0;34m\u001b[0m\u001b[0;34m\u001b[0m\u001b[0m\n\u001b[1;32m     66\u001b[0m       \u001b[0mfiltered_tb\u001b[0m \u001b[0;34m=\u001b[0m \u001b[0m_process_traceback_frames\u001b[0m\u001b[0;34m(\u001b[0m\u001b[0me\u001b[0m\u001b[0;34m.\u001b[0m\u001b[0m__traceback__\u001b[0m\u001b[0;34m)\u001b[0m\u001b[0;34m\u001b[0m\u001b[0;34m\u001b[0m\u001b[0m\n",
            "\u001b[0;32m/usr/local/lib/python3.7/dist-packages/keras/engine/training.py\u001b[0m in \u001b[0;36mevaluate\u001b[0;34m(self, x, y, batch_size, verbose, sample_weight, steps, callbacks, max_queue_size, workers, use_multiprocessing, return_dict, **kwargs)\u001b[0m\n\u001b[1;32m   1535\u001b[0m             \u001b[0;32mwith\u001b[0m \u001b[0mtf\u001b[0m\u001b[0;34m.\u001b[0m\u001b[0mprofiler\u001b[0m\u001b[0;34m.\u001b[0m\u001b[0mexperimental\u001b[0m\u001b[0;34m.\u001b[0m\u001b[0mTrace\u001b[0m\u001b[0;34m(\u001b[0m\u001b[0;34m'test'\u001b[0m\u001b[0;34m,\u001b[0m \u001b[0mstep_num\u001b[0m\u001b[0;34m=\u001b[0m\u001b[0mstep\u001b[0m\u001b[0;34m,\u001b[0m \u001b[0m_r\u001b[0m\u001b[0;34m=\u001b[0m\u001b[0;36m1\u001b[0m\u001b[0;34m)\u001b[0m\u001b[0;34m:\u001b[0m\u001b[0;34m\u001b[0m\u001b[0;34m\u001b[0m\u001b[0m\n\u001b[1;32m   1536\u001b[0m               \u001b[0mcallbacks\u001b[0m\u001b[0;34m.\u001b[0m\u001b[0mon_test_batch_begin\u001b[0m\u001b[0;34m(\u001b[0m\u001b[0mstep\u001b[0m\u001b[0;34m)\u001b[0m\u001b[0;34m\u001b[0m\u001b[0;34m\u001b[0m\u001b[0m\n\u001b[0;32m-> 1537\u001b[0;31m               \u001b[0mtmp_logs\u001b[0m \u001b[0;34m=\u001b[0m \u001b[0mself\u001b[0m\u001b[0;34m.\u001b[0m\u001b[0mtest_function\u001b[0m\u001b[0;34m(\u001b[0m\u001b[0miterator\u001b[0m\u001b[0;34m)\u001b[0m\u001b[0;34m\u001b[0m\u001b[0;34m\u001b[0m\u001b[0m\n\u001b[0m\u001b[1;32m   1538\u001b[0m               \u001b[0;32mif\u001b[0m \u001b[0mdata_handler\u001b[0m\u001b[0;34m.\u001b[0m\u001b[0mshould_sync\u001b[0m\u001b[0;34m:\u001b[0m\u001b[0;34m\u001b[0m\u001b[0;34m\u001b[0m\u001b[0m\n\u001b[1;32m   1539\u001b[0m                 \u001b[0mcontext\u001b[0m\u001b[0;34m.\u001b[0m\u001b[0masync_wait\u001b[0m\u001b[0;34m(\u001b[0m\u001b[0;34m)\u001b[0m\u001b[0;34m\u001b[0m\u001b[0;34m\u001b[0m\u001b[0m\n",
            "\u001b[0;32m/usr/local/lib/python3.7/dist-packages/tensorflow/python/util/traceback_utils.py\u001b[0m in \u001b[0;36merror_handler\u001b[0;34m(*args, **kwargs)\u001b[0m\n\u001b[1;32m    148\u001b[0m     \u001b[0mfiltered_tb\u001b[0m \u001b[0;34m=\u001b[0m \u001b[0;32mNone\u001b[0m\u001b[0;34m\u001b[0m\u001b[0;34m\u001b[0m\u001b[0m\n\u001b[1;32m    149\u001b[0m     \u001b[0;32mtry\u001b[0m\u001b[0;34m:\u001b[0m\u001b[0;34m\u001b[0m\u001b[0;34m\u001b[0m\u001b[0m\n\u001b[0;32m--> 150\u001b[0;31m       \u001b[0;32mreturn\u001b[0m \u001b[0mfn\u001b[0m\u001b[0;34m(\u001b[0m\u001b[0;34m*\u001b[0m\u001b[0margs\u001b[0m\u001b[0;34m,\u001b[0m \u001b[0;34m**\u001b[0m\u001b[0mkwargs\u001b[0m\u001b[0;34m)\u001b[0m\u001b[0;34m\u001b[0m\u001b[0;34m\u001b[0m\u001b[0m\n\u001b[0m\u001b[1;32m    151\u001b[0m     \u001b[0;32mexcept\u001b[0m \u001b[0mException\u001b[0m \u001b[0;32mas\u001b[0m \u001b[0me\u001b[0m\u001b[0;34m:\u001b[0m\u001b[0;34m\u001b[0m\u001b[0;34m\u001b[0m\u001b[0m\n\u001b[1;32m    152\u001b[0m       \u001b[0mfiltered_tb\u001b[0m \u001b[0;34m=\u001b[0m \u001b[0m_process_traceback_frames\u001b[0m\u001b[0;34m(\u001b[0m\u001b[0me\u001b[0m\u001b[0;34m.\u001b[0m\u001b[0m__traceback__\u001b[0m\u001b[0;34m)\u001b[0m\u001b[0;34m\u001b[0m\u001b[0;34m\u001b[0m\u001b[0m\n",
            "\u001b[0;32m/usr/local/lib/python3.7/dist-packages/tensorflow/python/eager/def_function.py\u001b[0m in \u001b[0;36m__call__\u001b[0;34m(self, *args, **kwds)\u001b[0m\n\u001b[1;32m    908\u001b[0m \u001b[0;34m\u001b[0m\u001b[0m\n\u001b[1;32m    909\u001b[0m       \u001b[0;32mwith\u001b[0m \u001b[0mOptionalXlaContext\u001b[0m\u001b[0;34m(\u001b[0m\u001b[0mself\u001b[0m\u001b[0;34m.\u001b[0m\u001b[0m_jit_compile\u001b[0m\u001b[0;34m)\u001b[0m\u001b[0;34m:\u001b[0m\u001b[0;34m\u001b[0m\u001b[0;34m\u001b[0m\u001b[0m\n\u001b[0;32m--> 910\u001b[0;31m         \u001b[0mresult\u001b[0m \u001b[0;34m=\u001b[0m \u001b[0mself\u001b[0m\u001b[0;34m.\u001b[0m\u001b[0m_call\u001b[0m\u001b[0;34m(\u001b[0m\u001b[0;34m*\u001b[0m\u001b[0margs\u001b[0m\u001b[0;34m,\u001b[0m \u001b[0;34m**\u001b[0m\u001b[0mkwds\u001b[0m\u001b[0;34m)\u001b[0m\u001b[0;34m\u001b[0m\u001b[0;34m\u001b[0m\u001b[0m\n\u001b[0m\u001b[1;32m    911\u001b[0m \u001b[0;34m\u001b[0m\u001b[0m\n\u001b[1;32m    912\u001b[0m       \u001b[0mnew_tracing_count\u001b[0m \u001b[0;34m=\u001b[0m \u001b[0mself\u001b[0m\u001b[0;34m.\u001b[0m\u001b[0mexperimental_get_tracing_count\u001b[0m\u001b[0;34m(\u001b[0m\u001b[0;34m)\u001b[0m\u001b[0;34m\u001b[0m\u001b[0;34m\u001b[0m\u001b[0m\n",
            "\u001b[0;32m/usr/local/lib/python3.7/dist-packages/tensorflow/python/eager/def_function.py\u001b[0m in \u001b[0;36m_call\u001b[0;34m(self, *args, **kwds)\u001b[0m\n\u001b[1;32m    947\u001b[0m       \u001b[0;31m# In this case we have not created variables on the first call. So we can\u001b[0m\u001b[0;34m\u001b[0m\u001b[0;34m\u001b[0m\u001b[0;34m\u001b[0m\u001b[0m\n\u001b[1;32m    948\u001b[0m       \u001b[0;31m# run the first trace but we should fail if variables are created.\u001b[0m\u001b[0;34m\u001b[0m\u001b[0;34m\u001b[0m\u001b[0;34m\u001b[0m\u001b[0m\n\u001b[0;32m--> 949\u001b[0;31m       \u001b[0mresults\u001b[0m \u001b[0;34m=\u001b[0m \u001b[0mself\u001b[0m\u001b[0;34m.\u001b[0m\u001b[0m_stateful_fn\u001b[0m\u001b[0;34m(\u001b[0m\u001b[0;34m*\u001b[0m\u001b[0margs\u001b[0m\u001b[0;34m,\u001b[0m \u001b[0;34m**\u001b[0m\u001b[0mkwds\u001b[0m\u001b[0;34m)\u001b[0m\u001b[0;34m\u001b[0m\u001b[0;34m\u001b[0m\u001b[0m\n\u001b[0m\u001b[1;32m    950\u001b[0m       \u001b[0;32mif\u001b[0m \u001b[0mself\u001b[0m\u001b[0;34m.\u001b[0m\u001b[0m_created_variables\u001b[0m \u001b[0;32mand\u001b[0m \u001b[0;32mnot\u001b[0m \u001b[0mALLOW_DYNAMIC_VARIABLE_CREATION\u001b[0m\u001b[0;34m:\u001b[0m\u001b[0;34m\u001b[0m\u001b[0;34m\u001b[0m\u001b[0m\n\u001b[1;32m    951\u001b[0m         raise ValueError(\"Creating variables on a non-first call to a function\"\n",
            "\u001b[0;32m/usr/local/lib/python3.7/dist-packages/tensorflow/python/eager/function.py\u001b[0m in \u001b[0;36m__call__\u001b[0;34m(self, *args, **kwargs)\u001b[0m\n\u001b[1;32m   3129\u001b[0m        filtered_flat_args) = self._maybe_define_function(args, kwargs)\n\u001b[1;32m   3130\u001b[0m     return graph_function._call_flat(\n\u001b[0;32m-> 3131\u001b[0;31m         filtered_flat_args, captured_inputs=graph_function.captured_inputs)  # pylint: disable=protected-access\n\u001b[0m\u001b[1;32m   3132\u001b[0m \u001b[0;34m\u001b[0m\u001b[0m\n\u001b[1;32m   3133\u001b[0m   \u001b[0;34m@\u001b[0m\u001b[0mproperty\u001b[0m\u001b[0;34m\u001b[0m\u001b[0;34m\u001b[0m\u001b[0m\n",
            "\u001b[0;32m/usr/local/lib/python3.7/dist-packages/tensorflow/python/eager/function.py\u001b[0m in \u001b[0;36m_call_flat\u001b[0;34m(self, args, captured_inputs, cancellation_manager)\u001b[0m\n\u001b[1;32m   1958\u001b[0m       \u001b[0;31m# No tape is watching; skip to running the function.\u001b[0m\u001b[0;34m\u001b[0m\u001b[0;34m\u001b[0m\u001b[0;34m\u001b[0m\u001b[0m\n\u001b[1;32m   1959\u001b[0m       return self._build_call_outputs(self._inference_function.call(\n\u001b[0;32m-> 1960\u001b[0;31m           ctx, args, cancellation_manager=cancellation_manager))\n\u001b[0m\u001b[1;32m   1961\u001b[0m     forward_backward = self._select_forward_and_backward_functions(\n\u001b[1;32m   1962\u001b[0m         \u001b[0margs\u001b[0m\u001b[0;34m,\u001b[0m\u001b[0;34m\u001b[0m\u001b[0;34m\u001b[0m\u001b[0m\n",
            "\u001b[0;32m/usr/local/lib/python3.7/dist-packages/tensorflow/python/eager/function.py\u001b[0m in \u001b[0;36mcall\u001b[0;34m(self, ctx, args, cancellation_manager)\u001b[0m\n\u001b[1;32m    601\u001b[0m               \u001b[0minputs\u001b[0m\u001b[0;34m=\u001b[0m\u001b[0margs\u001b[0m\u001b[0;34m,\u001b[0m\u001b[0;34m\u001b[0m\u001b[0;34m\u001b[0m\u001b[0m\n\u001b[1;32m    602\u001b[0m               \u001b[0mattrs\u001b[0m\u001b[0;34m=\u001b[0m\u001b[0mattrs\u001b[0m\u001b[0;34m,\u001b[0m\u001b[0;34m\u001b[0m\u001b[0;34m\u001b[0m\u001b[0m\n\u001b[0;32m--> 603\u001b[0;31m               ctx=ctx)\n\u001b[0m\u001b[1;32m    604\u001b[0m         \u001b[0;32melse\u001b[0m\u001b[0;34m:\u001b[0m\u001b[0;34m\u001b[0m\u001b[0;34m\u001b[0m\u001b[0m\n\u001b[1;32m    605\u001b[0m           outputs = execute.execute_with_cancellation(\n",
            "\u001b[0;32m/usr/local/lib/python3.7/dist-packages/tensorflow/python/eager/execute.py\u001b[0m in \u001b[0;36mquick_execute\u001b[0;34m(op_name, num_outputs, inputs, attrs, ctx, name)\u001b[0m\n\u001b[1;32m     57\u001b[0m     \u001b[0mctx\u001b[0m\u001b[0;34m.\u001b[0m\u001b[0mensure_initialized\u001b[0m\u001b[0;34m(\u001b[0m\u001b[0;34m)\u001b[0m\u001b[0;34m\u001b[0m\u001b[0;34m\u001b[0m\u001b[0m\n\u001b[1;32m     58\u001b[0m     tensors = pywrap_tfe.TFE_Py_Execute(ctx._handle, device_name, op_name,\n\u001b[0;32m---> 59\u001b[0;31m                                         inputs, attrs, num_outputs)\n\u001b[0m\u001b[1;32m     60\u001b[0m   \u001b[0;32mexcept\u001b[0m \u001b[0mcore\u001b[0m\u001b[0;34m.\u001b[0m\u001b[0m_NotOkStatusException\u001b[0m \u001b[0;32mas\u001b[0m \u001b[0me\u001b[0m\u001b[0;34m:\u001b[0m\u001b[0;34m\u001b[0m\u001b[0;34m\u001b[0m\u001b[0m\n\u001b[1;32m     61\u001b[0m     \u001b[0;32mif\u001b[0m \u001b[0mname\u001b[0m \u001b[0;32mis\u001b[0m \u001b[0;32mnot\u001b[0m \u001b[0;32mNone\u001b[0m\u001b[0;34m:\u001b[0m\u001b[0;34m\u001b[0m\u001b[0;34m\u001b[0m\u001b[0m\n",
            "\u001b[0;31mKeyboardInterrupt\u001b[0m: "
          ]
        }
      ]
    },
    {
      "cell_type": "code",
      "source": [
        "preds_mlp = model.predict(x_test)"
      ],
      "metadata": {
        "id": "Nf1crqN_YVgg"
      },
      "execution_count": null,
      "outputs": []
    },
    {
      "cell_type": "code",
      "source": [
        "preds_mlp = model.predict(x_test)\n",
        "pfm_auc = roc_auc_score(y_test, preds_mlp[:,1])\n",
        "pfm_f1 = f1_score(y_test, np.where(preds_mlp[:,1]>PREDS_RATIO,1,0), average='weighted')\n",
        "pfm_precision = precision_score(y_test, np.where(preds_mlp[:,1]>PREDS_RATIO,1,0), average='weighted')\n",
        "pfm_recall = recall_score(y_test, np.where(preds_mlp[:,1]>PREDS_RATIO,1,0), average='weighted')\n",
        "print(f\"AUC:{pfm_auc}\\nF1 Score:{pfm_f1}\\nPrecision:{pfm_precision}\\nRecall:{pfm_recall}\")"
      ],
      "metadata": {
        "id": "h-gofrx2M0Lq"
      },
      "execution_count": null,
      "outputs": []
    },
    {
      "cell_type": "markdown",
      "source": [
        "## Loop"
      ],
      "metadata": {
        "id": "ii1mlI873i9a"
      }
    },
    {
      "cell_type": "code",
      "source": [
        "#list of Parameter batchSize ,epochNum ,learnRate ,optzer ,nodes_num=1 ,nodes_act='relu'\n",
        "lst_batch = [256, 512, 1024]\n",
        "lst_epoch = [10, 25, 50]\n",
        "lst_learn = [0.001 ,0.005]\n",
        "lst_opt = ['adum' ,'sgd']\n",
        "lst_node = [56]\n",
        "lst_activation = ['sigmoid', 'relu']"
      ],
      "metadata": {
        "id": "RU_iVR9_95LA"
      },
      "execution_count": null,
      "outputs": []
    },
    {
      "cell_type": "code",
      "source": [
        "#Import last result\n",
        "#For New Loop\n",
        "df_result_MLP = pd.DataFrame()\n",
        "#Continue from last state\n",
        "#df_result_MLP = pd.read_csv('/content/drive/MyDrive/Colab Notebooks/BADS7604_DL/data/mlp_result_l007_c015.csv')\n",
        "last_step = len(df_result_MLP)\n",
        "print(f\"Last step is : {last_step}\")\n",
        "df_result_MLP.tail(2)"
      ],
      "metadata": {
        "id": "5tmL3IJlCA_j",
        "colab": {
          "base_uri": "https://localhost:8080/",
          "height": 67
        },
        "outputId": "e71a918f-d2bd-40fb-ec03-d7ddb8d1cd8b"
      },
      "execution_count": null,
      "outputs": [
        {
          "output_type": "stream",
          "name": "stdout",
          "text": [
            "Last step is : 0\n"
          ]
        },
        {
          "output_type": "execute_result",
          "data": {
            "text/html": [
              "\n",
              "  <div id=\"df-2390d8d0-9e83-4658-80e0-bf116afd6e82\">\n",
              "    <div class=\"colab-df-container\">\n",
              "      <div>\n",
              "<style scoped>\n",
              "    .dataframe tbody tr th:only-of-type {\n",
              "        vertical-align: middle;\n",
              "    }\n",
              "\n",
              "    .dataframe tbody tr th {\n",
              "        vertical-align: top;\n",
              "    }\n",
              "\n",
              "    .dataframe thead th {\n",
              "        text-align: right;\n",
              "    }\n",
              "</style>\n",
              "<table border=\"1\" class=\"dataframe\">\n",
              "  <thead>\n",
              "    <tr style=\"text-align: right;\">\n",
              "      <th></th>\n",
              "    </tr>\n",
              "  </thead>\n",
              "  <tbody>\n",
              "  </tbody>\n",
              "</table>\n",
              "</div>\n",
              "      <button class=\"colab-df-convert\" onclick=\"convertToInteractive('df-2390d8d0-9e83-4658-80e0-bf116afd6e82')\"\n",
              "              title=\"Convert this dataframe to an interactive table.\"\n",
              "              style=\"display:none;\">\n",
              "        \n",
              "  <svg xmlns=\"http://www.w3.org/2000/svg\" height=\"24px\"viewBox=\"0 0 24 24\"\n",
              "       width=\"24px\">\n",
              "    <path d=\"M0 0h24v24H0V0z\" fill=\"none\"/>\n",
              "    <path d=\"M18.56 5.44l.94 2.06.94-2.06 2.06-.94-2.06-.94-.94-2.06-.94 2.06-2.06.94zm-11 1L8.5 8.5l.94-2.06 2.06-.94-2.06-.94L8.5 2.5l-.94 2.06-2.06.94zm10 10l.94 2.06.94-2.06 2.06-.94-2.06-.94-.94-2.06-.94 2.06-2.06.94z\"/><path d=\"M17.41 7.96l-1.37-1.37c-.4-.4-.92-.59-1.43-.59-.52 0-1.04.2-1.43.59L10.3 9.45l-7.72 7.72c-.78.78-.78 2.05 0 2.83L4 21.41c.39.39.9.59 1.41.59.51 0 1.02-.2 1.41-.59l7.78-7.78 2.81-2.81c.8-.78.8-2.07 0-2.86zM5.41 20L4 18.59l7.72-7.72 1.47 1.35L5.41 20z\"/>\n",
              "  </svg>\n",
              "      </button>\n",
              "      \n",
              "  <style>\n",
              "    .colab-df-container {\n",
              "      display:flex;\n",
              "      flex-wrap:wrap;\n",
              "      gap: 12px;\n",
              "    }\n",
              "\n",
              "    .colab-df-convert {\n",
              "      background-color: #E8F0FE;\n",
              "      border: none;\n",
              "      border-radius: 50%;\n",
              "      cursor: pointer;\n",
              "      display: none;\n",
              "      fill: #1967D2;\n",
              "      height: 32px;\n",
              "      padding: 0 0 0 0;\n",
              "      width: 32px;\n",
              "    }\n",
              "\n",
              "    .colab-df-convert:hover {\n",
              "      background-color: #E2EBFA;\n",
              "      box-shadow: 0px 1px 2px rgba(60, 64, 67, 0.3), 0px 1px 3px 1px rgba(60, 64, 67, 0.15);\n",
              "      fill: #174EA6;\n",
              "    }\n",
              "\n",
              "    [theme=dark] .colab-df-convert {\n",
              "      background-color: #3B4455;\n",
              "      fill: #D2E3FC;\n",
              "    }\n",
              "\n",
              "    [theme=dark] .colab-df-convert:hover {\n",
              "      background-color: #434B5C;\n",
              "      box-shadow: 0px 1px 3px 1px rgba(0, 0, 0, 0.15);\n",
              "      filter: drop-shadow(0px 1px 2px rgba(0, 0, 0, 0.3));\n",
              "      fill: #FFFFFF;\n",
              "    }\n",
              "  </style>\n",
              "\n",
              "      <script>\n",
              "        const buttonEl =\n",
              "          document.querySelector('#df-2390d8d0-9e83-4658-80e0-bf116afd6e82 button.colab-df-convert');\n",
              "        buttonEl.style.display =\n",
              "          google.colab.kernel.accessAllowed ? 'block' : 'none';\n",
              "\n",
              "        async function convertToInteractive(key) {\n",
              "          const element = document.querySelector('#df-2390d8d0-9e83-4658-80e0-bf116afd6e82');\n",
              "          const dataTable =\n",
              "            await google.colab.kernel.invokeFunction('convertToInteractive',\n",
              "                                                     [key], {});\n",
              "          if (!dataTable) return;\n",
              "\n",
              "          const docLinkHtml = 'Like what you see? Visit the ' +\n",
              "            '<a target=\"_blank\" href=https://colab.research.google.com/notebooks/data_table.ipynb>data table notebook</a>'\n",
              "            + ' to learn more about interactive tables.';\n",
              "          element.innerHTML = '';\n",
              "          dataTable['output_type'] = 'display_data';\n",
              "          await google.colab.output.renderOutput(dataTable, element);\n",
              "          const docLink = document.createElement('div');\n",
              "          docLink.innerHTML = docLinkHtml;\n",
              "          element.appendChild(docLink);\n",
              "        }\n",
              "      </script>\n",
              "    </div>\n",
              "  </div>\n",
              "  "
            ],
            "text/plain": [
              "Empty DataFrame\n",
              "Columns: []\n",
              "Index: []"
            ]
          },
          "metadata": {},
          "execution_count": 55
        }
      ]
    },
    {
      "cell_type": "code",
      "source": [
        "count_loop = 0\n",
        "start_tm = time.time()\n",
        "for batch_i in lst_batch:\n",
        "  for epoch_j in lst_epoch:\n",
        "    for learn_k in lst_learn:\n",
        "      for opt_l in lst_opt:\n",
        "        for node_m in lst_node:\n",
        "          for act_n in lst_activation:\n",
        "            count_loop =count_loop+1\n",
        "            if count_loop>last_step:\n",
        "              inloop_tm = time.time()\n",
        "              model,_ = mlp_training(batch_i,epoch_j,learn_k,opt_l,node_m,act_n)\n",
        "              inloop_tm = time.time() - inloop_tm\n",
        "              preds_mlp = model.predict(x_test)\n",
        "              results = model.evaluate(x_test, y_test, batch_size=128 , verbose=0)\n",
        "              #Save Result\n",
        "              result_dic = {'batch_size':[batch_i]\n",
        "                              ,'epoch':[epoch_j]\n",
        "                              ,'learning_rate':[learn_k]\n",
        "                              ,'optimizer':[opt_l]\n",
        "                              ,'num_node':[node_m]\n",
        "                              ,'activation':[act_n]\n",
        "                              ,'layers':['|'.join([layer.name for layer in model.layers])]\n",
        "                              ,'runing_times':[inloop_tm]\n",
        "                              ,'auc':[roc_auc_score(y_test, preds_mlp[:,1])]\n",
        "                              ,'f1score':[f1_score(y_test, np.where(preds_mlp[:,1]>PREDS_RATIO,1,0), average='weighted')]\n",
        "                              ,'precision':[precision_score(y_test, np.where(preds_mlp[:,1]>PREDS_RATIO,1,0), average='weighted')]\n",
        "                              ,'recall':[recall_score(y_test, np.where(preds_mlp[:,1]>PREDS_RATIO,1,0), average='weighted')]\n",
        "                              ,'loss':[results[0]]\n",
        "                              ,'acc':[results[1]]\n",
        "                              }\n",
        "              df_result_MLP = df_result_MLP.append(pd.DataFrame(result_dic) ,ignore_index=True)\n",
        "              print(f\"Size of table {df_result_MLP.shape} time: {(time.time() - start_tm)/60:.2f} min\")\n",
        "              #Save Result to google Drive\n",
        "              df_result_MLP.to_csv(f\"/content/drive/MyDrive/Colab Notebooks/BADS7604_DL/data/mlp_result_l{len(model.layers):03d}_c{count_loop:03d}.csv\",index=False)\n",
        "            else :\n",
        "              print(f\"Skip step : {count_loop}\")\n",
        "print(f\"Total runing loop : {time.time() - start_tm}\")"
      ],
      "metadata": {
        "id": "nwfi1HFHIx5S",
        "colab": {
          "base_uri": "https://localhost:8080/"
        },
        "outputId": "249280d4-f9e3-4622-e4f8-73de1ae7aac8"
      },
      "execution_count": null,
      "outputs": [
        {
          "output_type": "stream",
          "name": "stdout",
          "text": [
            "Size of table (1, 14) time: 0.76 min\n",
            "Size of table (2, 14) time: 1.52 min\n",
            "Size of table (3, 14) time: 2.17 min\n",
            "Size of table (4, 14) time: 2.84 min\n",
            "Size of table (5, 14) time: 3.59 min\n",
            "Size of table (6, 14) time: 4.34 min\n",
            "Size of table (7, 14) time: 5.10 min\n",
            "Size of table (8, 14) time: 5.85 min\n",
            "Size of table (9, 14) time: 7.60 min\n",
            "Size of table (10, 14) time: 9.35 min\n",
            "Size of table (11, 14) time: 10.88 min\n",
            "Size of table (12, 14) time: 13.32 min\n",
            "Size of table (13, 14) time: 15.76 min\n",
            "Size of table (14, 14) time: 18.20 min\n",
            "Size of table (15, 14) time: 19.71 min\n",
            "Size of table (16, 14) time: 21.26 min\n",
            "Size of table (17, 14) time: 24.69 min\n",
            "Size of table (18, 14) time: 29.12 min\n",
            "Size of table (19, 14) time: 32.15 min\n",
            "Size of table (20, 14) time: 35.30 min\n",
            "Size of table (21, 14) time: 38.83 min\n",
            "Size of table (22, 14) time: 43.27 min\n",
            "Size of table (23, 14) time: 46.29 min\n",
            "Size of table (24, 14) time: 49.34 min\n",
            "Size of table (25, 14) time: 49.86 min\n",
            "Size of table (26, 14) time: 50.62 min\n",
            "Size of table (27, 14) time: 51.36 min\n",
            "Size of table (28, 14) time: 52.10 min\n",
            "Size of table (29, 14) time: 52.85 min\n",
            "Size of table (30, 14) time: 53.41 min\n",
            "Size of table (31, 14) time: 54.15 min\n",
            "Size of table (32, 14) time: 54.62 min\n",
            "Size of table (33, 14) time: 56.06 min\n",
            "Size of table (34, 14) time: 57.50 min\n",
            "Size of table (35, 14) time: 58.93 min\n",
            "Size of table (36, 14) time: 60.36 min\n",
            "Size of table (37, 14) time: 61.80 min\n",
            "Size of table (38, 14) time: 62.99 min\n",
            "Size of table (39, 14) time: 64.42 min\n",
            "Size of table (40, 14) time: 65.86 min\n",
            "Size of table (41, 14) time: 68.28 min\n",
            "Size of table (42, 14) time: 70.71 min\n",
            "Size of table (43, 14) time: 72.78 min\n",
            "Size of table (44, 14) time: 75.21 min\n",
            "Size of table (45, 14) time: 77.51 min\n",
            "Size of table (46, 14) time: 79.94 min\n",
            "Size of table (47, 14) time: 82.37 min\n",
            "Size of table (48, 14) time: 84.52 min\n",
            "Size of table (49, 14) time: 84.96 min\n",
            "Size of table (50, 14) time: 85.39 min\n",
            "Size of table (51, 14) time: 86.13 min\n",
            "Size of table (52, 14) time: 86.89 min\n",
            "Size of table (53, 14) time: 87.63 min\n",
            "Size of table (54, 14) time: 88.37 min\n",
            "Size of table (55, 14) time: 89.13 min\n",
            "Size of table (56, 14) time: 89.87 min\n",
            "Size of table (57, 14) time: 90.87 min\n",
            "Size of table (58, 14) time: 91.88 min\n",
            "Size of table (59, 14) time: 93.30 min\n",
            "Size of table (60, 14) time: 94.22 min\n",
            "Size of table (61, 14) time: 95.25 min\n",
            "Size of table (62, 14) time: 96.68 min\n",
            "Size of table (63, 14) time: 97.65 min\n",
            "Size of table (64, 14) time: 98.58 min\n",
            "Size of table (65, 14) time: 101.02 min\n",
            "Size of table (66, 14) time: 102.89 min\n",
            "Size of table (67, 14) time: 105.31 min\n",
            "Size of table (68, 14) time: 107.74 min\n",
            "Size of table (69, 14) time: 110.16 min\n",
            "Size of table (70, 14) time: 112.60 min\n",
            "Size of table (71, 14) time: 115.04 min\n",
            "Size of table (72, 14) time: 117.48 min\n",
            "Total runing loop : 7048.568008184433\n"
          ]
        }
      ]
    },
    {
      "cell_type": "code",
      "source": [
        ""
      ],
      "metadata": {
        "id": "pvOdZB2vJTgR"
      },
      "execution_count": null,
      "outputs": []
    }
  ]
}